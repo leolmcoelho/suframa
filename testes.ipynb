{
 "cells": [
  {
   "cell_type": "code",
   "execution_count": null,
   "metadata": {},
   "outputs": [],
   "source": [
    "from PIL import Image, ImageEnhance\n",
    "\n",
    "def enhance_image(image_path, output_path):\n",
    "    # Abrir a imagem usando Pillow (PIL)\n",
    "    image = Image.open(image_path)\n",
    "\n",
    "    # Garantir que a imagem tenha o modo \"RGB\"\n",
    "    if image.mode != \"RGB\":\n",
    "        image = image.convert(\"RGB\")\n",
    "\n",
    "    # Aplicar melhoria de contraste e nitidez\n",
    "    enhancer = ImageEnhance.Contrast(image)\n",
    "    image = enhancer.enhance(2.0)  # Aumenta o contraste\n",
    "    enhancer = ImageEnhance.Sharpness(image)\n",
    "    image = enhancer.enhance(2.0)  # Aumenta a nitidez\n",
    "\n",
    "    # Salvar a imagem melhorada\n",
    "    image.save(output_path)\n",
    "\n",
    "if __name__ == \"__main__\":\n",
    "    input_image = \"1Captcha.png\"  # Substitua pelo caminho da sua imagem captcha\n",
    "    output_image = \"enhanced_captcha.png\"  # Caminho para salvar a imagem melhorada\n",
    "\n",
    "    enhance_image(input_image, output_image)\n",
    "    print(\"Imagem melhorada salva em:\", output_image)\n"
   ]
  },
  {
   "cell_type": "code",
   "execution_count": null,
   "metadata": {},
   "outputs": [],
   "source": []
  },
  {
   "cell_type": "code",
   "execution_count": null,
   "metadata": {},
   "outputs": [],
   "source": [
    "import pytesseract\n",
    "import cv2\n",
    "import re\n",
    "\n",
    "def ocr_with_gray_filter(im, threshold=180):\n",
    "    try:\n",
    "        captcha_image = cv2.imread(im)\n",
    "\n",
    "        # Converter a imagem para escala de cinza\n",
    "        gray_image = cv2.cvtColor(captcha_image, cv2.COLOR_BGR2GRAY)\n",
    "\n",
    "        # Aplicar um limiar para manter apenas o tom de cinza\n",
    "        _, binary_image = cv2.threshold(gray_image, threshold, 255, cv2.THRESH_BINARY)\n",
    "\n",
    "        # Usar pytesseract para realizar OCR na imagem em tons de cinza\n",
    "        captcha_text = pytesseract.image_to_string(binary_image, config='--psm 6')\n",
    "        print(f'Texto do Captcha {im}:', captcha_text)\n",
    "        # Filtrar apenas letras e números usando expressão regular\n",
    "        captcha_text_filtered = re.sub(r'[^a-zA-Z0-9]', '', captcha_text)\n",
    "        return captcha_text_filtered\n",
    "    except Exception as e:\n",
    "        print(f'Erro ao processar a imagem {im}: {str(e)}')\n",
    "        return None\n",
    "\n",
    "# Carregue e processe cada imagem\n",
    "for i in range(5):\n",
    "    captcha_text_filtered = ocr_with_gray_filter(f'{i}Captcha.png')\n",
    "\n",
    "    if captcha_text_filtered is not None:\n",
    "        print(f'Texto do Tratado {i}:', captcha_text_filtered)\n"
   ]
  },
  {
   "cell_type": "code",
   "execution_count": null,
   "metadata": {},
   "outputs": [],
   "source": [
    "elements = 4 + 2 \n",
    "            \n",
    "for element in range(2 ,elements):\n",
    "    print(element)\n",
    "    if i == 0:\n",
    "            continue"
   ]
  },
  {
   "cell_type": "code",
   "execution_count": 1,
   "metadata": {},
   "outputs": [
    {
     "name": "stdout",
     "output_type": "stream",
     "text": [
      "22825574000131\n",
      "22825574\n",
      "05910245000250\n",
      "carga2023\n",
      "07242947000158\n",
      "07242947\n",
      "07242947000239\n",
      "07242947\n",
      "05780473000172\n",
      "fuckp2023\n",
      "21814060000118\n",
      "fiscal2022\n",
      "20782023000102\n",
      "portal2022\n",
      "09642884000152\n",
      "Portal2022\n",
      "26256059000139\n",
      "26256portal\n",
      "26256059000210\n",
      "fiscal2023\n",
      "22825574000301\n",
      "hort2024@\n",
      "34764472000132\n",
      "ppl3638\n",
      "18337224000159\n",
      "18337224\n"
     ]
    }
   ],
   "source": [
    "import pandas as pd\n",
    "dtype_dict = {'USUARIO': str}\n",
    "df = pd.read_excel('senhas.xlsx', engine='openpyxl', dtype=dtype_dict)\n",
    "\n",
    "for index, row in df.iterrows():\n",
    "    user = row['USUARIO']\n",
    "    print(user)\n",
    "    print(row['Senha Nova'])"
   ]
  }
 ],
 "metadata": {
  "kernelspec": {
   "display_name": "Python 3",
   "language": "python",
   "name": "python3"
  },
  "language_info": {
   "codemirror_mode": {
    "name": "ipython",
    "version": 3
   },
   "file_extension": ".py",
   "mimetype": "text/x-python",
   "name": "python",
   "nbconvert_exporter": "python",
   "pygments_lexer": "ipython3",
   "version": "3.10.9"
  },
  "orig_nbformat": 4
 },
 "nbformat": 4,
 "nbformat_minor": 2
}
