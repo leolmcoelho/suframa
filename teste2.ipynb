{
 "cells": [
  {
   "cell_type": "code",
   "execution_count": 8,
   "metadata": {},
   "outputs": [],
   "source": [
    "n =2\n",
    "def ret(n):\n",
    "    if 1 == n:\n",
    "        return True\n",
    "    else:\n",
    "        return \n",
    "    \n",
    "if ret(n) == False:\n",
    "    print(ret(n))\n",
    "    "
   ]
  },
  {
   "cell_type": "code",
   "execution_count": 6,
   "metadata": {},
   "outputs": [
    {
     "name": "stdout",
     "output_type": "stream",
     "text": [
      "10\n"
     ]
    }
   ],
   "source": [
    "from datetime import datetime\n",
    "data_atual = datetime.now()\n",
    "d = '31/10/2023'.split('/')[1]\n",
    "mes = data_atual.strftime('%m')\n",
    "if d == mes:\n",
    "    print(d)\n",
    "\n"
   ]
  },
  {
   "cell_type": "code",
   "execution_count": 12,
   "metadata": {},
   "outputs": [
    {
     "name": "stdout",
     "output_type": "stream",
     "text": [
      "Caminho padrão configurado para: d:\\Desenvolvimento\\OneDrive - Syara Education\\desenvolvimento\\RPA\\suframa\\grus\n"
     ]
    }
   ],
   "source": [
    "import winreg\n",
    "import subprocess\n",
    "import os\n",
    "ano = 2023\n",
    "ano_mes = 10\n",
    "\n",
    "path = os.path.join(os.getcwd(),\n",
    "                        f'grus')\n",
    "\n",
    "pdf_save_path = path \n",
    "key_path = r'Software\\Microsoft\\Internet Explorer\\Main'\n",
    "\n",
    "try:\n",
    "    key = winreg.OpenKey(winreg.HKEY_CURRENT_USER, key_path, 0, winreg.KEY_WRITE)\n",
    "    winreg.SetValueEx(key, 'Default Download Directory', 0, winreg.REG_SZ, pdf_save_path)\n",
    "    winreg.CloseKey(key)\n",
    "    print(f'Caminho padrão configurado para: {pdf_save_path}')\n",
    "except Exception as e:\n",
    "    print(f'Erro ao configurar o caminho padrão: {str(e)}')\n",
    "\n"
   ]
  },
  {
   "cell_type": "code",
   "execution_count": null,
   "metadata": {},
   "outputs": [],
   "source": []
  },
  {
   "cell_type": "code",
   "execution_count": null,
   "metadata": {},
   "outputs": [],
   "source": []
  }
 ],
 "metadata": {
  "kernelspec": {
   "display_name": "Python 3",
   "language": "python",
   "name": "python3"
  },
  "language_info": {
   "codemirror_mode": {
    "name": "ipython",
    "version": 3
   },
   "file_extension": ".py",
   "mimetype": "text/x-python",
   "name": "python",
   "nbconvert_exporter": "python",
   "pygments_lexer": "ipython3",
   "version": "3.10.9"
  },
  "orig_nbformat": 4
 },
 "nbformat": 4,
 "nbformat_minor": 2
}
